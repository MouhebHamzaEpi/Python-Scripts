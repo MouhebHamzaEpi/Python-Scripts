{
  "nbformat": 4,
  "nbformat_minor": 0,
  "metadata": {
    "colab": {
      "name": "image_downloader.ipynb",
      "provenance": []
    },
    "kernelspec": {
      "name": "python3",
      "display_name": "Python 3"
    }
  },
  "cells": [
    {
      "cell_type": "code",
      "metadata": {
        "id": "QsU0v82hm8VU"
      },
      "source": [
        "import os\n",
        "import requests\n",
        "import shutil\n",
        "from google.colab import drive\n",
        "drive.mount('/content/drive')\n",
        "os.chdir('drive')\n",
        "os.chdir('My Drive')\n",
        "os.chdir('logos_in_the_wild_2')\n"
      ],
      "execution_count": null,
      "outputs": []
    },
    {
      "cell_type": "code",
      "metadata": {
        "id": "eSUnIyBGDPsL"
      },
      "source": [
        "import csv\n",
        "classes = []\n",
        "with open('/content/labels.csv', newline='') as f:\n",
        "    reader = csv.reader(f)\n",
        "    for i in reader:\n",
        "      for j in i:\n",
        "        classes.append(j)"
      ],
      "execution_count": 19,
      "outputs": []
    },
    {
      "cell_type": "code",
      "metadata": {
        "id": "TEuI3a0qnI3A",
        "outputId": "14f5dc84-5114-4f74-b66b-bc947010528f",
        "colab": {
          "base_uri": "https://localhost:8080/",
          "height": 1000
        }
      },
      "source": [
        "for j in classes:\n",
        "  k = 0 \n",
        "  os.chdir(j) \n",
        "  name_initials = []\n",
        "  urls = []\n",
        "  with open('urls.txt', 'r') as f2:\n",
        "     data = f2.readlines()\n",
        "  for x in data:\n",
        "    name_initials.append(x[:6])\n",
        "    urls.append(x[7: len(x)-1])\n",
        "\n",
        "  for i in range(len(urls)):\n",
        "    image_url = urls[i]\n",
        "    filename = 'img' + j + name_initials[i] + '.jpg'\n",
        "    xml = 'img' + name_initials[i] + '.xml'\n",
        "    new_name = 'img' + j' + name_initials[i] + '.xml'\n",
        "    #print(i, image_url)\n",
        "    try:\n",
        "      r = requests.get(image_url, stream = True)\n",
        "\n",
        "      if r.status_code == 200 or r.status_code == 302 or r.status_code == 301:\n",
        "        r.raw.decode_content = True\n",
        "\n",
        "        with open(filename,'wb') as f:\n",
        "            shutil.copyfileobj(r.raw, f)\n",
        "        \n",
        "        print('Image sucessfully Downloaded: ',filename, j)\n",
        "        k+=1 \n",
        "        os.rename(xml, new_name )\n",
        "      else:\n",
        "        print('Image Couldnt be retrieved')\n",
        "        !rm {xml}\n",
        "    except:\n",
        "      print ('security issue')\n",
        "      !rm {xml} \n",
        "  break\n",
        "  %cd ../\n"
      ],
      "execution_count": null,
      "outputs": [
        {
          "output_type": "stream",
          "text": [
            "Image Couldnt be retrieved\n",
            "Image sucessfully Downloaded:  imgkelloggs000003.jpg kelloggs\n",
            "Image sucessfully Downloaded:  imgkelloggs000014.jpg kelloggs\n",
            "Image Couldnt be retrieved\n",
            "Image sucessfully Downloaded:  imgkelloggs000016.jpg kelloggs\n",
            "Image Couldnt be retrieved\n",
            "Image Couldnt be retrieved\n",
            "Image sucessfully Downloaded:  imgkelloggs000021.jpg kelloggs\n",
            "Image Couldnt be retrieved\n",
            "Image Couldnt be retrieved\n",
            "Image sucessfully Downloaded:  imgkelloggs000028.jpg kelloggs\n",
            "Image Couldnt be retrieved\n",
            "Image Couldnt be retrieved\n",
            "Image Couldnt be retrieved\n",
            "Image sucessfully Downloaded:  imgkelloggs000034.jpg kelloggs\n",
            "Image sucessfully Downloaded:  imgkelloggs000035.jpg kelloggs\n",
            "Image Couldnt be retrieved\n",
            "Image Couldnt be retrieved\n",
            "Image Couldnt be retrieved\n",
            "Image Couldnt be retrieved\n",
            "Image sucessfully Downloaded:  imgkelloggs000043.jpg kelloggs\n",
            "Image sucessfully Downloaded:  imgkelloggs000045.jpg kelloggs\n",
            "Image sucessfully Downloaded:  imgkelloggs000047.jpg kelloggs\n",
            "Image sucessfully Downloaded:  imgkelloggs000048.jpg kelloggs\n",
            "Image sucessfully Downloaded:  imgkelloggs000051.jpg kelloggs\n",
            "Image sucessfully Downloaded:  imgkelloggs000052.jpg kelloggs\n",
            "Image sucessfully Downloaded:  imgkelloggs000053.jpg kelloggs\n",
            "Image sucessfully Downloaded:  imgkelloggs000056.jpg kelloggs\n",
            "Image Couldnt be retrieved\n",
            "Image Couldnt be retrieved\n",
            "Image sucessfully Downloaded:  imgkelloggs000060.jpg kelloggs\n",
            "Image sucessfully Downloaded:  imgkelloggs000061.jpg kelloggs\n",
            "Image sucessfully Downloaded:  imgkelloggs000062.jpg kelloggs\n",
            "Image sucessfully Downloaded:  imgkelloggs000063.jpg kelloggs\n",
            "security issue\n",
            "Image sucessfully Downloaded:  imgkelloggs000066.jpg kelloggs\n",
            "Image sucessfully Downloaded:  imgkelloggs000067.jpg kelloggs\n",
            "Image Couldnt be retrieved\n",
            "Image Couldnt be retrieved\n",
            "Image sucessfully Downloaded:  imgkelloggs000070.jpg kelloggs\n",
            "Image sucessfully Downloaded:  imgkelloggs000072.jpg kelloggs\n",
            "security issue\n",
            "Image Couldnt be retrieved\n",
            "Image sucessfully Downloaded:  imgkelloggs000083.jpg kelloggs\n",
            "Image sucessfully Downloaded:  imgkelloggs000084.jpg kelloggs\n",
            "Image Couldnt be retrieved\n",
            "Image sucessfully Downloaded:  imgkelloggs000088.jpg kelloggs\n",
            "Image sucessfully Downloaded:  imgkelloggs000089.jpg kelloggs\n",
            "Image sucessfully Downloaded:  imgkelloggs000090.jpg kelloggs\n",
            "Image sucessfully Downloaded:  imgkelloggs000091.jpg kelloggs\n",
            "Image sucessfully Downloaded:  imgkelloggs000092.jpg kelloggs\n",
            "Image sucessfully Downloaded:  imgkelloggs000093.jpg kelloggs\n",
            "Image sucessfully Downloaded:  imgkelloggs000096.jpg kelloggs\n",
            "Image sucessfully Downloaded:  imgkelloggs000097.jpg kelloggs\n",
            "Image Couldnt be retrieved\n",
            "Image sucessfully Downloaded:  imgkelloggs000099.jpg kelloggs\n",
            "Image sucessfully Downloaded:  imgkelloggs000100.jpg kelloggs\n",
            "Image sucessfully Downloaded:  imgkelloggs000102.jpg kelloggs\n",
            "security issue\n",
            "Image Couldnt be retrieved\n",
            "Image sucessfully Downloaded:  imgkelloggs000109.jpg kelloggs\n",
            "Image sucessfully Downloaded:  imgkelloggs000112.jpg kelloggs\n",
            "Image sucessfully Downloaded:  imgkelloggs000114.jpg kelloggs\n",
            "Image sucessfully Downloaded:  imgkelloggs000115.jpg kelloggs\n",
            "Image sucessfully Downloaded:  imgkelloggs000117.jpg kelloggs\n",
            "Image sucessfully Downloaded:  imgkelloggs000120.jpg kelloggs\n",
            "Image sucessfully Downloaded:  imgkelloggs000121.jpg kelloggs\n",
            "security issue\n",
            "Image sucessfully Downloaded:  imgkelloggs000132.jpg kelloggs\n",
            "Image Couldnt be retrieved\n",
            "Image sucessfully Downloaded:  imgkelloggs000135.jpg kelloggs\n",
            "Image sucessfully Downloaded:  imgkelloggs000136.jpg kelloggs\n",
            "Image Couldnt be retrieved\n",
            "Image sucessfully Downloaded:  imgkelloggs000141.jpg kelloggs\n",
            "Image sucessfully Downloaded:  imgkelloggs000144.jpg kelloggs\n",
            "Image sucessfully Downloaded:  imgkelloggs000145.jpg kelloggs\n",
            "Image sucessfully Downloaded:  imgkelloggs000147.jpg kelloggs\n",
            "Image sucessfully Downloaded:  imgkelloggs000148.jpg kelloggs\n",
            "Image sucessfully Downloaded:  imgkelloggs000153.jpg kelloggs\n",
            "Image sucessfully Downloaded:  imgkelloggs000155.jpg kelloggs\n",
            "Image sucessfully Downloaded:  imgkelloggs000156.jpg kelloggs\n",
            "Image sucessfully Downloaded:  imgkelloggs000157.jpg kelloggs\n",
            "Image Couldnt be retrieved\n",
            "Image Couldnt be retrieved\n",
            "Image Couldnt be retrieved\n",
            "Image Couldnt be retrieved\n",
            "Image sucessfully Downloaded:  imgkelloggs000184.jpg kelloggs\n",
            "Image sucessfully Downloaded:  imgkelloggs000218.jpg kelloggs\n",
            "Image sucessfully Downloaded:  imgkelloggs000235.jpg kelloggs\n",
            "Image sucessfully Downloaded:  imgkelloggs000262.jpg kelloggs\n",
            "Image sucessfully Downloaded:  imgkelloggs000265.jpg kelloggs\n",
            "Image sucessfully Downloaded:  imgkelloggs000267.jpg kelloggs\n",
            "Image sucessfully Downloaded:  imgkelloggs000271.jpg kelloggs\n",
            "Image sucessfully Downloaded:  imgkelloggs000273.jpg kelloggs\n",
            "security issue\n",
            "Image Couldnt be retrieved\n"
          ],
          "name": "stdout"
        }
      ]
    },
    {
      "cell_type": "code",
      "metadata": {
        "id": "VW8XouhGWlQq",
        "outputId": "24d6929d-5cc9-41bc-f025-36cd92015a99",
        "colab": {
          "base_uri": "https://localhost:8080/",
          "height": 34
        }
      },
      "source": [
        "!pwd"
      ],
      "execution_count": null,
      "outputs": [
        {
          "output_type": "stream",
          "text": [
            "/content/drive/My Drive/logos_in_the_wild/data\n"
          ],
          "name": "stdout"
        }
      ]
    },
    {
      "cell_type": "code",
      "metadata": {
        "id": "UV5PVevjGJ_k",
        "outputId": "a6282903-cefb-45b1-ef5e-64cfa588c5ad",
        "colab": {
          "base_uri": "https://localhost:8080/",
          "height": 102
        }
      },
      "source": [
        "%cd ../\n",
        "%cd ../\n",
        "%cd ../\n",
        "%cd ../"
      ],
      "execution_count": null,
      "outputs": [
        {
          "output_type": "stream",
          "text": [
            "/content/drive/My Drive/logos_in_the_wild\n",
            "/content/drive/My Drive\n",
            "/content/drive\n",
            "/content\n",
            "/\n"
          ],
          "name": "stdout"
        }
      ]
    },
    {
      "cell_type": "code",
      "metadata": {
        "id": "d8eRLvD4ntv4"
      },
      "source": [
        ""
      ],
      "execution_count": null,
      "outputs": []
    }
  ]
}